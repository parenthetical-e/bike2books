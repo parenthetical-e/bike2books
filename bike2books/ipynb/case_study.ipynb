{
 "cells": [
  {
   "cell_type": "markdown",
   "metadata": {},
   "source": [
    "# bike-a-bility in Barrio Logan & Hillcrest \n",
    "\n",
    "An intial case study for demoing the `bike2books` project."
   ]
  },
  {
   "cell_type": "code",
   "execution_count": 1,
   "metadata": {},
   "outputs": [],
   "source": [
    "%matplotlib inline  \n",
    "import matplotlib.pyplot as plt\n",
    "\n",
    "import gmaps\n",
    "gmaps.configure(api_key=\"ADD ME\")\n",
    "                \n",
    "import numpy as np\n",
    "import pandas as pd\n",
    "import geopandas as gpd \n",
    "\n",
    "from pprint import pprint\n",
    "from bike2books import travel\n",
    "from bike2books import sample\n",
    "\n",
    "flip = travel.flip_coords"
   ]
  },
  {
   "cell_type": "markdown",
   "metadata": {},
   "source": [
    "# Premise\n",
    "\n",
    "The City of San Diego is investing in substantial improvements in biking [infrastructure](https://www.sandiego.gov/sites/default/files/legacy/planning/programs/transportation/mobility/pdf/bicycle_master_plan_final_dec_2013.pdf). A long-term effort like this can be difficult to explain to the community in way they find intuitive and meaningful....\n",
    "\n",
    "The `bike2books` project provides a simple and meaningful metric of a neighborhood's bike-a-bility: _on average how long does it take to bike safely to your nearest library?_ \n",
    "\n",
    "- Libraries are often centrally located in their neighborhoods, they are familiar landmarks, and are used by a wide range of the community. If someone feels comfortable biking to their library, they should feel comfortable biking elsewhere in their neighborhood. At least that's the idea. \n",
    "\n",
    "- `bike2books` may also be a useful metric in thinking about where to add bicycle infrastructure. The Bike Master Plan focus on both lager between neighborhood connections (which are important), and local 'choke points'. This tool provides one way to estimate those changes impact on a measure of overall bike-a-bility. \n",
    "\n",
    "- The idea I'm exploring is really that if people are to bike more, they should be comfortable biking near their homes. If this intuition in countered by exiting data, and citizen input, it would need revision or replacement. \n",
    "\n",
    "- This is not a complete measure of course. It may not be good metric for commuting, for example. That said, a metric like this might be helpful in San Diego developing a bike friendly brand.\n",
    "\n",
    "\n",
    "---\n",
    "\n",
    "This Python module includes *the beginning* of a tool set for re-sampling based statistical simulations to analyze the bike \"bike-a-bility\" of each neighborhood in San Diego. The key idea is to develop a good estimate of average travel time to a library, using a data-driven re-sampling approach (i.e. bootstrapping). \n",
    "\n",
    "### In summary:\n",
    "\n",
    "1. A \"trip\" starts at random point in a neighborhood. \n",
    "2. The model then estimates the travel time from that point to the closest library, by bike and car. \n",
    "3. Bike trips are penalized for safety (see next section).\n",
    "4. Car trips have a parking penalty (see next section).\n",
    "\n",
    "\n",
    "- The average bike travel time for `N` simulated trips is the bike-a-bility score. Smaller is better.\n",
    "- When the bike-a-bility score falls below the car travel time, biking can be considered a better choice for efficient safe mobility.\n",
    "\n",
    "### Key details\n",
    "\n",
    "- Bike travel time is penalized when the route does not *easily* include a bike lane or path. This penalty may not reflect the actual travel time, but for biking to become popular it needs to be seen as safe. Providing several measures of bike-a-bility (e.g. one for time, one for safety) can make understanding and quantifying progress difficult. By converting safety (as measure by bike lane availability) into units of time, we can introduce a single bike-a-bility metric. One that lends itself to comparison with other ways of getting around, and is easily understood. \n",
    "\n",
    "- Bike results are compared to average travel-time by car, penalized by an estimate of how long it might take to park. Parking penalties are based on nearby parking meter usage.\n",
    "\n",
    "- In the future travel times will be estimated using the Google Maps API. At present that are __very crude__ estimates based on line-of-sight distance.\n",
    "\n",
    "# The experiment\n",
    "\n",
    "To see how `bike2books` works I'll compare the bike-a-bility of two San Diego neighborhoods - Hillcrest and Barrio Logan. "
   ]
  },
  {
   "cell_type": "markdown",
   "metadata": {},
   "source": [
    "First, we locate the two neighborhoods."
   ]
  },
  {
   "cell_type": "code",
   "execution_count": 2,
   "metadata": {},
   "outputs": [],
   "source": [
    "bario_logan = travel.neighborhood_location(\"Barrio Logan\")     \n",
    "hillcrest = travel.neighborhood_location(\"Hillcrest\")     "
   ]
  },
  {
   "cell_type": "markdown",
   "metadata": {},
   "source": [
    "How far are they apart?"
   ]
  },
  {
   "cell_type": "code",
   "execution_count": 3,
   "metadata": {},
   "outputs": [
    {
     "name": "stdout",
     "output_type": "stream",
     "text": [
      "2.38117846781 miles.\n"
     ]
    }
   ],
   "source": [
    "d = travel.distance_in_miles(hillcrest, bario_logan)\n",
    "print(\"{} miles.\".format(d))"
   ]
  },
  {
   "cell_type": "markdown",
   "metadata": {},
   "source": [
    "Plot them in Google Maps"
   ]
  },
  {
   "cell_type": "code",
   "execution_count": 4,
   "metadata": {},
   "outputs": [
    {
     "data": {
      "application/vnd.jupyter.widget-view+json": {
       "model_id": "ae920c3bf50242e8be743632c352b9ec",
       "version_major": 2,
       "version_minor": 0
      },
      "text/html": [
       "<p>Failed to display Jupyter Widget of type <code>Figure</code>.</p>\n",
       "<p>\n",
       "  If you're reading this message in the Jupyter Notebook or JupyterLab Notebook, it may mean\n",
       "  that the widgets JavaScript is still loading. If this message persists, it\n",
       "  likely means that the widgets JavaScript library is either not installed or\n",
       "  not enabled. See the <a href=\"https://ipywidgets.readthedocs.io/en/stable/user_install.html\">Jupyter\n",
       "  Widgets Documentation</a> for setup instructions.\n",
       "</p>\n",
       "<p>\n",
       "  If you're reading this message in another frontend (for example, a static\n",
       "  rendering on GitHub or <a href=\"https://nbviewer.jupyter.org/\">NBViewer</a>),\n",
       "  it may mean that your frontend doesn't currently support widgets.\n",
       "</p>\n"
      ],
      "text/plain": [
       "Figure()"
      ]
     },
     "metadata": {},
     "output_type": "display_data"
    }
   ],
   "source": [
    "fig = gmaps.figure()\n",
    "layer = gmaps.marker_layer([flip(hillcrest), flip(bario_logan)])\n",
    "fig.add_layer(layer)\n",
    "fig"
   ]
  },
  {
   "cell_type": "markdown",
   "metadata": {},
   "source": [
    "Great. That's sensible. Let's get to work."
   ]
  },
  {
   "cell_type": "markdown",
   "metadata": {},
   "source": [
    "# 100 trips\n",
    "\n",
    "- First we simulate 100 random trips, one from each neighborhood. \n",
    "\n",
    "- Each trip starts within a 0.5 mile radius of the neighborhood's center."
   ]
  },
  {
   "cell_type": "code",
   "execution_count": 5,
   "metadata": {},
   "outputs": [],
   "source": [
    "N = 100\n",
    "r = .5\n",
    "\n",
    "hillcrest_samples = sample.trips(N, hillcrest, radius=r)\n",
    "bl_samples = sample.trips(N, bario_logan, radius=r)"
   ]
  },
  {
   "cell_type": "markdown",
   "metadata": {},
   "source": [
    "Plot trip starting points in Hillcrest."
   ]
  },
  {
   "cell_type": "code",
   "execution_count": 6,
   "metadata": {},
   "outputs": [
    {
     "data": {
      "application/vnd.jupyter.widget-view+json": {
       "model_id": "3c768f05cde141adb2c1d4c2dee4e872",
       "version_major": 2,
       "version_minor": 0
      },
      "text/html": [
       "<p>Failed to display Jupyter Widget of type <code>Figure</code>.</p>\n",
       "<p>\n",
       "  If you're reading this message in the Jupyter Notebook or JupyterLab Notebook, it may mean\n",
       "  that the widgets JavaScript is still loading. If this message persists, it\n",
       "  likely means that the widgets JavaScript library is either not installed or\n",
       "  not enabled. See the <a href=\"https://ipywidgets.readthedocs.io/en/stable/user_install.html\">Jupyter\n",
       "  Widgets Documentation</a> for setup instructions.\n",
       "</p>\n",
       "<p>\n",
       "  If you're reading this message in another frontend (for example, a static\n",
       "  rendering on GitHub or <a href=\"https://nbviewer.jupyter.org/\">NBViewer</a>),\n",
       "  it may mean that your frontend doesn't currently support widgets.\n",
       "</p>\n"
      ],
      "text/plain": [
       "Figure()"
      ]
     },
     "metadata": {},
     "output_type": "display_data"
    }
   ],
   "source": [
    "hillcrest_points = [flip((row[1], row[2])) for row in hillcrest_samples]\n",
    "fig = gmaps.figure()\n",
    "layer = gmaps.marker_layer(hillcrest_points)\n",
    "fig.add_layer(layer)\n",
    "fig"
   ]
  },
  {
   "cell_type": "markdown",
   "metadata": {},
   "source": [
    "And in B.L."
   ]
  },
  {
   "cell_type": "code",
   "execution_count": 7,
   "metadata": {},
   "outputs": [
    {
     "data": {
      "application/vnd.jupyter.widget-view+json": {
       "model_id": "28606a01d7a24402b8f471c4b9aa820d",
       "version_major": 2,
       "version_minor": 0
      },
      "text/html": [
       "<p>Failed to display Jupyter Widget of type <code>Figure</code>.</p>\n",
       "<p>\n",
       "  If you're reading this message in the Jupyter Notebook or JupyterLab Notebook, it may mean\n",
       "  that the widgets JavaScript is still loading. If this message persists, it\n",
       "  likely means that the widgets JavaScript library is either not installed or\n",
       "  not enabled. See the <a href=\"https://ipywidgets.readthedocs.io/en/stable/user_install.html\">Jupyter\n",
       "  Widgets Documentation</a> for setup instructions.\n",
       "</p>\n",
       "<p>\n",
       "  If you're reading this message in another frontend (for example, a static\n",
       "  rendering on GitHub or <a href=\"https://nbviewer.jupyter.org/\">NBViewer</a>),\n",
       "  it may mean that your frontend doesn't currently support widgets.\n",
       "</p>\n"
      ],
      "text/plain": [
       "Figure()"
      ]
     },
     "metadata": {},
     "output_type": "display_data"
    }
   ],
   "source": [
    "bl_points = [flip((row[1], row[2])) for row in bl_samples]\n",
    "fig = gmaps.figure()\n",
    "layer = gmaps.marker_layer(bl_points)\n",
    "fig.add_layer(layer)\n",
    "fig"
   ]
  },
  {
   "cell_type": "markdown",
   "metadata": {},
   "source": [
    "For each trip estimate the travel time from each starting point to the closests library."
   ]
  },
  {
   "cell_type": "code",
   "execution_count": 8,
   "metadata": {},
   "outputs": [
    {
     "name": "stdout",
     "output_type": "stream",
     "text": [
      "Closest libraries:\n",
      "[u'Mission Hills']\n"
     ]
    }
   ],
   "source": [
    "hillcrest_points = [(row[1], row[2]) for row in hillcrest_samples]\n",
    "\n",
    "distance_hillcrest = []\n",
    "closest_hillcrest = []\n",
    "names_hillcrest = []\n",
    "\n",
    "for p in hillcrest_points:\n",
    "    name, d, c = travel.nearest_library(p)\n",
    "    \n",
    "    distance_hillcrest.append(d)\n",
    "    closest_hillcrest.append(c)\n",
    "    names_hillcrest.append(name)\n",
    "    \n",
    "print(\"Closest libraries:\")\n",
    "pprint(list(np.unique(names_hillcrest)))"
   ]
  },
  {
   "cell_type": "code",
   "execution_count": 9,
   "metadata": {},
   "outputs": [
    {
     "name": "stdout",
     "output_type": "stream",
     "text": [
      "Closest libraries:\n",
      "[u'Logan Heights', u'San Diego Cental']\n"
     ]
    }
   ],
   "source": [
    "bl_points = [(row[1], row[2]) for row in bl_samples]\n",
    "\n",
    "distance_bl = []\n",
    "closest_bl = []\n",
    "names_bl = []\n",
    "for p in bl_points:\n",
    "    name, d, p_i = travel.nearest_library(p)\n",
    "    \n",
    "    closest_bl.append(p_i)\n",
    "    distance_bl.append(d)\n",
    "    names_bl.append(name)\n",
    "\n",
    "print(\"Closest libraries:\")\n",
    "pprint(list(np.unique(names_bl)))"
   ]
  },
  {
   "cell_type": "markdown",
   "metadata": {},
   "source": [
    "Now estimate travel times for each neighborhood"
   ]
  },
  {
   "cell_type": "code",
   "execution_count": 10,
   "metadata": {},
   "outputs": [],
   "source": [
    "bike_hillcrest = []\n",
    "drive_hillcrest = []\n",
    "\n",
    "for x, y in zip(hillcrest_points, closest_hillcrest):\n",
    "    bike_hillcrest.append(travel.bike_time(x, y))\n",
    "    drive_hillcrest.append(travel.drive_time(x, y))"
   ]
  },
  {
   "cell_type": "code",
   "execution_count": 11,
   "metadata": {},
   "outputs": [],
   "source": [
    "bike_bl = []\n",
    "drive_bl = []\n",
    "\n",
    "for x, y in zip(bl_points, closest_bl):\n",
    "    bike_bl.append(travel.bike_time(x, y, p=.3))\n",
    "    drive_bl.append(travel.drive_time(x, y))"
   ]
  },
  {
   "cell_type": "code",
   "execution_count": null,
   "metadata": {},
   "outputs": [],
   "source": []
  },
  {
   "cell_type": "markdown",
   "metadata": {},
   "source": [
    "# Results\n",
    "Plot average bike-a-bility in both neightborhoods, measured by cycling safety-adjusted travel time. Compare to average travel times by car, penalized by an estimate of parking time."
   ]
  },
  {
   "cell_type": "code",
   "execution_count": 12,
   "metadata": {},
   "outputs": [],
   "source": [
    "bike_means = np.asarray([np.mean(bike_hillcrest), np.mean(bike_bl)])\n",
    "bike_stds = np.asarray([np.std(bike_hillcrest), np.std(bike_bl)])\n",
    "\n",
    "drive_means = np.asarray([np.mean(drive_hillcrest), np.mean(drive_bl)])\n",
    "drive_stds = np.asarray([np.std(drive_hillcrest), np.std(drive_bl)])"
   ]
  },
  {
   "cell_type": "code",
   "execution_count": 13,
   "metadata": {},
   "outputs": [
    {
     "data": {
      "image/png": "[encoded data removed]",
      "text/plain": [
       "<matplotlib.figure.Figure at 0x11cb5f7d0>"
      ]
     },
     "metadata": {},
     "output_type": "display_data"
    }
   ],
   "source": [
    "fig, ax = plt.subplots(figsize=(3, 3))\n",
    "\n",
    "ind = np.arange(2)\n",
    "width = 0.8\n",
    "\n",
    "rects1 = ax.bar(ind, bike_means*60, width, color='green', alpha=0.4, yerr=bike_stds*60)\n",
    "# rects2 = ax.bar(ind + width, drive_means, width, color='grey', alpha=0.3, yerr=drive_stds)\n",
    "\n",
    "ax.set_title('Bike-a-bility by neighbothood.')\n",
    "ax.set_ylabel('Scores (minutes)')\n",
    "ax.set_xticklabels(('Hillcrest', 'Barrio Logan'))\n",
    "ax.set_xticks(ind + width / 16);"
   ]
  },
  {
   "cell_type": "markdown",
   "metadata": {},
   "source": [
    "Compare to car travel"
   ]
  },
  {
   "cell_type": "code",
   "execution_count": 14,
   "metadata": {},
   "outputs": [
    {
     "data": {
      "image/png": "[encoded data removed]",
      "text/plain": [
       "<matplotlib.figure.Figure at 0x11cc71790>"
      ]
     },
     "metadata": {},
     "output_type": "display_data"
    }
   ],
   "source": [
    "fig, ax = plt.subplots(figsize=(4, 4))\n",
    "\n",
    "ind = np.arange(2)\n",
    "width = 0.4\n",
    "\n",
    "rects1 = ax.bar(ind, bike_means*60, width, color='green', alpha=0.4, yerr=bike_stds*60)\n",
    "rects2 = ax.bar(ind + width, drive_means*60, width, color='grey', alpha=0.3, yerr=drive_stds*60)\n",
    "\n",
    "ax.set_title('Car versus bikes.')\n",
    "ax.set_ylabel('Scores (minutes)')\n",
    "ax.set_xticklabels(('Hillcrest', 'Barrio Logan'))\n",
    "ax.set_xticks(ind + width / 2)\n",
    "\n",
    "ax.legend((rects1[0], rects2[0]), ('Bike', 'Car'));"
   ]
  },
  {
   "cell_type": "markdown",
   "metadata": {},
   "source": [
    "# Conclusions\n",
    "\n"
   ]
  },
  {
   "cell_type": "markdown",
   "metadata": {},
   "source": [
    "- This data-driven [Monte Carlo](https://en.wikipedia.org/wiki/Monte_Carlo_method) simulations suggest Hillcrest has about twice the bike-a-bility of Barrio Logan.\n",
    "- Traveling by bike is about twice as fast as driving, which is (somewhat) surprising for these short distances."
   ]
  },
  {
   "cell_type": "markdown",
   "metadata": {},
   "source": [
    "# Caveats"
   ]
  },
  {
   "cell_type": "markdown",
   "metadata": {},
   "source": [
    "- Substantial work is needed on validation, espcially on points 3 and 4 in the `Premise` section above.\n",
    "- These simulations use __many__ approximations and shortcuts, none of which are validated. This appraoch may prove valuable, but for now....\n",
    "- **DO NOT TRUST THESE RESULTS. FOR DEMO USE ONLY**"
   ]
  },
  {
   "cell_type": "code",
   "execution_count": null,
   "metadata": {},
   "outputs": [],
   "source": []
  }
 ],
 "metadata": {
  "kernelspec": {
   "display_name": "Python 2",
   "language": "python",
   "name": "python2"
  },
  "language_info": {
   "codemirror_mode": {
    "name": "ipython",
    "version": 2
   },
   "file_extension": ".py",
   "mimetype": "text/x-python",
   "name": "python",
   "nbconvert_exporter": "python",
   "pygments_lexer": "ipython2",
   "version": "2.7.13"
  }
 },
 "nbformat": 4,
 "nbformat_minor": 2
}
