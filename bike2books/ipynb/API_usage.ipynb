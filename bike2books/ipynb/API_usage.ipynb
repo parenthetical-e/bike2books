{
 "cells": [
  {
   "cell_type": "markdown",
   "metadata": {},
   "source": [
    "# API usage examples\n",
    "\n",
    "For the `bike2books` project."
   ]
  },
  {
   "cell_type": "code",
   "execution_count": 1,
   "metadata": {},
   "outputs": [],
   "source": [
    "%matplotlib inline  \n",
    "import geojsonio\n",
    "\n",
    "import gmaps\n",
    "import numpy as np\n",
    "import pandas as pd\n",
    "import geopandas as gpd \n",
    "\n",
    "from pprint import pprint\n",
    "from bike2books import travel\n",
    "from bike2books import sample"
   ]
  },
  {
   "cell_type": "markdown",
   "metadata": {},
   "source": [
    "# Travel\n",
    "\n",
    "The core of the `bike2books` module is `travel`. It includes neighborhoods and library locations, travel time estimates, among other useful tidbits."
   ]
  },
  {
   "cell_type": "markdown",
   "metadata": {},
   "source": [
    "### Neighborhoods in SD"
   ]
  },
  {
   "cell_type": "code",
   "execution_count": null,
   "metadata": {},
   "outputs": [],
   "source": [
    "nns = travel.neighborhoods()\n",
    "pprint(nns)"
   ]
  },
  {
   "cell_type": "markdown",
   "metadata": {},
   "source": [
    "Or as geomDataFrame.\n",
    "\n",
    "- geomDFs are used internally, to take advantage of exiting library support (e.g. geopandas, shapely, geomjson). \n",
    "- Most user functions are designed to work with simpler (lon, lat) tuples. There is no need to expose the complexity of geo* universe for routine experiments."
   ]
  },
  {
   "cell_type": "code",
   "execution_count": null,
   "metadata": {},
   "outputs": [],
   "source": [
    "nns = travel.neighborhoods(as_geo=True)\n",
    "pprint(nns)"
   ]
  },
  {
   "cell_type": "markdown",
   "metadata": {},
   "source": [
    "Plot the center of each neighborhood (new window)"
   ]
  },
  {
   "cell_type": "code",
   "execution_count": null,
   "metadata": {},
   "outputs": [],
   "source": [
    "geojsonio.display(nns.to_json());"
   ]
  },
  {
   "cell_type": "markdown",
   "metadata": {},
   "source": [
    "### Libraries in SD."
   ]
  },
  {
   "cell_type": "code",
   "execution_count": null,
   "metadata": {
    "scrolled": false
   },
   "outputs": [],
   "source": [
    "library_path = travel.get_library_data_path()\n",
    "library_data = gpd.read_file(library_path)\n",
    "libs = library_data[[\"name\", \"geometry\"]]\n",
    "pprint(libs)"
   ]
  },
  {
   "cell_type": "markdown",
   "metadata": {},
   "source": [
    "And plot those too (new window)"
   ]
  },
  {
   "cell_type": "code",
   "execution_count": null,
   "metadata": {},
   "outputs": [],
   "source": [
    "geojsonio.display(libs.to_json());"
   ]
  },
  {
   "cell_type": "markdown",
   "metadata": {},
   "source": [
    "### Distances\n",
    "\n",
    "Given a point, find the closests library."
   ]
  },
  {
   "cell_type": "code",
   "execution_count": 8,
   "metadata": {},
   "outputs": [
    {
     "name": "stdout",
     "output_type": "stream",
     "text": [
      "(u'Mission Hills', 1.0041724300484733)\n"
     ]
    }
   ],
   "source": [
    "# Start with a neighborhoods center\n",
    "loc = travel.neighborhood_location(\"Mission Hills\")\n",
    "\n",
    "# Find the closest library, and its distance\n",
    "name, d = travel.nearest_library(loc)\n",
    "pprint((name, d))"
   ]
  },
  {
   "cell_type": "markdown",
   "metadata": {},
   "source": [
    "Or just find the distance between any two points"
   ]
  },
  {
   "cell_type": "code",
   "execution_count": 9,
   "metadata": {},
   "outputs": [
    {
     "name": "stdout",
     "output_type": "stream",
     "text": [
      "1.3668921907295235\n"
     ]
    }
   ],
   "source": [
    "x = travel.neighborhood_location(\"Mission Hills\")     \n",
    "y = travel.neighborhood_location(\"Hillcrest\")     \n",
    "\n",
    "d = travel.distance_in_miles(x, y)\n",
    "pprint(d)"
   ]
  },
  {
   "cell_type": "markdown",
   "metadata": {},
   "source": [
    "# Sample\n",
    "\n",
    "The second part of the `bike2books` is the sampling module. This takes a center point, and draws a random point from within the given radius.\n",
    "\n",
    "Sampling in this way lets you simulate many many trips from random locations in a neighborhood to the (closest) library. \n",
    "\n",
    "_Note_: The closest library may not be that neighborhood's named library. For example, a point sampled in Hillcrest that happens to be closer to Mission Hills library will target the closer Mission Hills branch, as seems sensible IRL."
   ]
  },
  {
   "cell_type": "code",
   "execution_count": 3,
   "metadata": {},
   "outputs": [
    {
     "name": "stdout",
     "output_type": "stream",
     "text": [
      "[(0, -117.16498798904827, 32.75134605876471),\n",
      " (1, -117.16699505713297, 32.7494577578361),\n",
      " (2, -117.16570382479627, 32.750046943731085),\n",
      " (3, -117.17176747395271, 32.75002121228541),\n",
      " (4, -117.16779403100101, 32.75041972352427),\n",
      " (5, -117.16756369006818, 32.755276242725664),\n",
      " (6, -117.16485645033102, 32.750082539474505),\n",
      " (7, -117.1674809726152, 32.75044735105855),\n",
      " (8, -117.16628737890287, 32.74898234529843),\n",
      " (9, -117.16547260544621, 32.750061060059465),\n",
      " (10, -117.16696746728859, 32.74579442573697),\n",
      " (11, -117.16672710893275, 32.749800269357756),\n",
      " (12, -117.17350291692844, 32.75099472592774),\n",
      " (13, -117.16311159422354, 32.746925523534124),\n",
      " (14, -117.1678741505354, 32.74960697307677),\n",
      " (15, -117.1658641786403, 32.75319244742576),\n",
      " (16, -117.17335303285235, 32.75043221717259),\n",
      " (17, -117.16042587038375, 32.75307882436843),\n",
      " (18, -117.1657013402964, 32.7482674944301),\n",
      " (19, -117.16864603052335, 32.747504167012856)]\n"
     ]
    }
   ],
   "source": [
    "# Let's simulate 20 trips\n",
    "N = 20\n",
    "\n",
    "# Starting in Hillcrest\n",
    "hillcrest_loc = travel.neighborhood_location(\"Hillcrest\")\n",
    "\n",
    "# with a 0.5 mile radius\n",
    "r = 0.5\n",
    "\n",
    "samples = sample.trips(N, hillcrest_loc, r)\n",
    "pprint(samples)"
   ]
  },
  {
   "cell_type": "markdown",
   "metadata": {},
   "source": [
    "Or as geoDF"
   ]
  },
  {
   "cell_type": "code",
   "execution_count": 6,
   "metadata": {},
   "outputs": [
    {
     "name": "stdout",
     "output_type": "stream",
     "text": [
      "    location                                      geometry\n",
      "0          0  POINT (-117.1633085423322 32.75082075600144)\n",
      "1          1   POINT (-117.169942036619 32.75011971413856)\n",
      "2          2  POINT (-117.1661160720322 32.75421585663724)\n",
      "3          3  POINT (-117.1604032950365 32.75301925047165)\n",
      "4          4  POINT (-117.1604737580357 32.75297040579679)\n",
      "5          5   POINT (-117.167706640808 32.75478910919764)\n",
      "6          6  POINT (-117.1695123192471 32.75056957159347)\n",
      "7          7  POINT (-117.1633308344352 32.75109681935963)\n",
      "8          8  POINT (-117.1702333652864 32.75062117356374)\n",
      "9          9  POINT (-117.1618127039666 32.74558547339952)\n",
      "10        10  POINT (-117.1657584602511 32.75077274853007)\n",
      "11        11   POINT (-117.166746115557 32.75093723435456)\n",
      "12        12  POINT (-117.1666977195944 32.74946323526151)\n",
      "13        13  POINT (-117.1665274669131 32.75020045111791)\n",
      "14        14  POINT (-117.1639666883373 32.74658377766318)\n",
      "15        15   POINT (-117.1637953132615 32.7524859951999)\n",
      "16        16  POINT (-117.1683163377541 32.74453862887827)\n",
      "17        17  POINT (-117.1673532085624 32.75111837713853)\n",
      "18        18   POINT (-117.1593779335254 32.7513682281804)\n",
      "19        19  POINT (-117.1631549206729 32.75222865199607)\n"
     ]
    }
   ],
   "source": [
    "samples = sample.trips(N, hillcrest_loc, r, as_geo=True)\n",
    "pprint(samples)"
   ]
  },
  {
   "cell_type": "markdown",
   "metadata": {},
   "source": [
    "which is easy to plot (new window)"
   ]
  },
  {
   "cell_type": "code",
   "execution_count": null,
   "metadata": {},
   "outputs": [],
   "source": [
    "geojsonio.display(libs.to_json());"
   ]
  }
 ],
 "metadata": {
  "kernelspec": {
   "display_name": "Python 2",
   "language": "python",
   "name": "python2"
  },
  "language_info": {
   "codemirror_mode": {
    "name": "ipython",
    "version": 2
   },
   "file_extension": ".py",
   "mimetype": "text/x-python",
   "name": "python",
   "nbconvert_exporter": "python",
   "pygments_lexer": "ipython2",
   "version": "2.7.13"
  }
 },
 "nbformat": 4,
 "nbformat_minor": 2
}
